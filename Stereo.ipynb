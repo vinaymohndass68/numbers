{
 "cells": [
  {
   "cell_type": "code",
   "execution_count": 1,
   "id": "3a1c5e19-cb12-4169-a009-17011f02ea7a",
   "metadata": {},
   "outputs": [
    {
     "name": "stdout",
     "output_type": "stream",
     "text": [
      "Looking in indexes: https://pypi.org/simple, https://pypi.ngc.nvidia.com\n",
      "Requirement already satisfied: matplotlib in c:\\users\\vinay\\miniconda3\\envs\\numbers\\lib\\site-packages (3.9.2)\n",
      "Requirement already satisfied: pillow in c:\\users\\vinay\\miniconda3\\envs\\numbers\\lib\\site-packages (10.4.0)\n",
      "Requirement already satisfied: numpy in c:\\users\\vinay\\miniconda3\\envs\\numbers\\lib\\site-packages (1.26.4)\n",
      "Requirement already satisfied: contourpy>=1.0.1 in c:\\users\\vinay\\miniconda3\\envs\\numbers\\lib\\site-packages (from matplotlib) (1.2.0)\n",
      "Requirement already satisfied: cycler>=0.10 in c:\\users\\vinay\\miniconda3\\envs\\numbers\\lib\\site-packages (from matplotlib) (0.11.0)\n",
      "Requirement already satisfied: fonttools>=4.22.0 in c:\\users\\vinay\\miniconda3\\envs\\numbers\\lib\\site-packages (from matplotlib) (4.51.0)\n",
      "Requirement already satisfied: kiwisolver>=1.3.1 in c:\\users\\vinay\\miniconda3\\envs\\numbers\\lib\\site-packages (from matplotlib) (1.4.4)\n",
      "Requirement already satisfied: packaging>=20.0 in c:\\users\\vinay\\miniconda3\\envs\\numbers\\lib\\site-packages (from matplotlib) (24.1)\n",
      "Requirement already satisfied: pyparsing>=2.3.1 in c:\\users\\vinay\\miniconda3\\envs\\numbers\\lib\\site-packages (from matplotlib) (3.1.2)\n",
      "Requirement already satisfied: python-dateutil>=2.7 in c:\\users\\vinay\\miniconda3\\envs\\numbers\\lib\\site-packages (from matplotlib) (2.9.0.post0)\n",
      "Requirement already satisfied: six>=1.5 in c:\\users\\vinay\\miniconda3\\envs\\numbers\\lib\\site-packages (from python-dateutil>=2.7->matplotlib) (1.16.0)\n",
      "Note: you may need to restart the kernel to use updated packages.\n"
     ]
    }
   ],
   "source": [
    "pip install matplotlib pillow numpy"
   ]
  },
  {
   "cell_type": "code",
   "execution_count": 2,
   "id": "8a5154f7-238d-4829-b470-17b9c4e2face",
   "metadata": {},
   "outputs": [],
   "source": [
    "from PIL import Image\n",
    "\n",
    "# Load your base image\n",
    "image = Image.open('1.jpg')\n",
    "\n",
    "# Offset for stereo effect (you can adjust this value)\n",
    "offset = 25\n",
    "\n",
    "# Create left-eye and right-eye images by shifting the original image horizontally\n",
    "left_eye_image = image.crop((offset, 0, image.width, image.height))\n",
    "right_eye_image = image.crop((0, 0, image.width - offset, image.height))\n",
    "\n",
    "# Create a new blank image to place both left-eye and right-eye images side by side\n",
    "stereo_image = Image.new('RGB', (left_eye_image.width + right_eye_image.width, left_eye_image.height))\n",
    "\n",
    "# Paste the images for cross-eye viewing (right-eye image on the left, left-eye image on the right)\n",
    "stereo_image.paste(right_eye_image, (0, 0))\n",
    "stereo_image.paste(left_eye_image, (right_eye_image.width, 0))\n",
    "\n",
    "# Save or display the stereo image\n",
    "stereo_image.save('stereo1.jpg')\n",
    "stereo_image.show()\n"
   ]
  },
  {
   "cell_type": "code",
   "execution_count": 3,
   "id": "8f5ded92-d156-49d7-baa4-5966ec2ccbfe",
   "metadata": {},
   "outputs": [],
   "source": [
    "from PIL import Image\n",
    "\n",
    "# Function to create a stereo pair for parallel viewing\n",
    "def create_parallel_stereo_images(offset=10):\n",
    "    base_image = Image.open('1.jpg')\n",
    "    \n",
    "    # Create left-eye and right-eye images with an offset for 3D effect\n",
    "    left_eye_image = base_image.crop((offset, 0, base_image.width, base_image.height))\n",
    "    right_eye_image = base_image.crop((0, 0, base_image.width - offset, base_image.height))\n",
    "    \n",
    "    # Combine them into a single stereo image (left-eye image on the left, right-eye image on the right)\n",
    "    stereo_image = Image.new('RGB', (left_eye_image.width + right_eye_image.width, left_eye_image.height))\n",
    "    stereo_image.paste(left_eye_image, (0, 0))\n",
    "    stereo_image.paste(right_eye_image, (left_eye_image.width, 0))\n",
    "    \n",
    "    # Save the result\n",
    "    stereo_image.save('parallel_stereo_image.png')\n",
    "\n",
    "# Generate stereo image for parallel viewing\n",
    "create_parallel_stereo_images(offset=15)"
   ]
  },
  {
   "cell_type": "code",
   "execution_count": 4,
   "id": "33273ba3-fadc-4901-9f10-3e1013c89a1f",
   "metadata": {},
   "outputs": [],
   "source": [
    "from PIL import Image\n",
    "\n",
    "def create_stereoscopic_image(base_image_path, offset=10):\n",
    "    base_image = Image.open('1.jpg')\n",
    "    \n",
    "    # Create left-eye and right-eye images\n",
    "    left_eye_image = base_image.crop((offset, 0, base_image.width, base_image.height))\n",
    "    right_eye_image = base_image.crop((0, 0, base_image.width - offset, base_image.height))\n",
    "    \n",
    "    # Combine them\n",
    "    stereo_image = Image.new('RGB', (left_eye_image.width + right_eye_image.width, left_eye_image.height))\n",
    "    stereo_image.paste(left_eye_image, (0, 0))\n",
    "    stereo_image.paste(right_eye_image, (left_eye_image.width, 0))\n",
    "    \n",
    "    stereo_image.save('stereo_image.jpg')\n",
    "\n",
    "create_stereoscopic_image('vinay.jpg')"
   ]
  },
  {
   "cell_type": "code",
   "execution_count": 5,
   "id": "2e44259a-b81f-44ca-93e5-e2eb3184b8f4",
   "metadata": {},
   "outputs": [],
   "source": [
    "from PIL import Image\n",
    "\n",
    "def create_autostereoscopic_images(base_image_path, num_views=5, offset=10):\n",
    "    base_image = Image.open('1.jpg')\n",
    "    views = []\n",
    "\n",
    "    for i in range(num_views):\n",
    "        # Calculate horizontal shift\n",
    "        shift = (i - num_views // 2) * offset\n",
    "        # Create shifted image\n",
    "        shifted_image = base_image.crop((shift, 0, base_image.width + shift, base_image.height))\n",
    "        views.append(shifted_image)\n",
    "\n",
    "    # Save the shifted images\n",
    "    for idx, view in enumerate(views):\n",
    "        view.save(f'autostereoscopic_view_{idx}.jpg')\n",
    "\n",
    "# Example usage\n",
    "create_autostereoscopic_images('d.jpg', num_views=5, offset=10)\n"
   ]
  },
  {
   "cell_type": "code",
   "execution_count": null,
   "id": "83cc39bc-a2aa-4a06-8379-f91ddc50aefe",
   "metadata": {},
   "outputs": [],
   "source": []
  }
 ],
 "metadata": {
  "kernelspec": {
   "display_name": "Python 3 (ipykernel)",
   "language": "python",
   "name": "python3"
  },
  "language_info": {
   "codemirror_mode": {
    "name": "ipython",
    "version": 3
   },
   "file_extension": ".py",
   "mimetype": "text/x-python",
   "name": "python",
   "nbconvert_exporter": "python",
   "pygments_lexer": "ipython3",
   "version": "3.12.5"
  }
 },
 "nbformat": 4,
 "nbformat_minor": 5
}
