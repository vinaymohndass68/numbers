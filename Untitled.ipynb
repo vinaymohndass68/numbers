{
 "cells": [
  {
   "cell_type": "code",
   "execution_count": null,
   "id": "5e2a163a-7134-49b9-89eb-822632812b55",
   "metadata": {},
   "outputs": [],
   "source": [
    "pip install opencv-python dlib imutils Pillow"
   ]
  },
  {
   "cell_type": "code",
   "execution_count": null,
   "id": "3ecfe9a4-2bdf-4580-9d79-05fa4e1d2a4d",
   "metadata": {},
   "outputs": [],
   "source": [
    "import cv2\n",
    "import dlib\n",
    "import imutils\n",
    "from imutils import face_utils\n",
    "import numpy as np\n",
    "\n",
    "# Load pre-trained face detector and facial landmark predictor\n",
    "detector = dlib.get_frontal_face_detector()\n",
    "predictor = dlib.shape_predictor('shape_predictor_68_face_landmarks.dat')\n",
    "\n",
    "# Load the image\n",
    "image = cv2.imread('vinay.jpg')\n",
    "image = imutils.resize(image, width=500)\n",
    "gray = cv2.cvtColor(image, cv2.COLOR_BGR2GRAY)\n",
    "\n",
    "# Detect faces in the image\n",
    "faces = detector(gray, 1)\n",
    "\n",
    "for (i, face) in enumerate(faces):\n",
    "    # Get the facial landmarks\n",
    "    shape = predictor(gray, face)\n",
    "    shape = face_utils.shape_to_np(shape)\n",
    "\n",
    "    # Extract mouth coordinates\n",
    "    (mouth_start, mouth_end) = face_utils.FACIAL_LANDMARKS_IDXS[\"mouth\"]\n",
    "    mouth_points = shape[mouth_start:mouth_end]\n",
    "\n",
    "    # Draw circles to visualize the mouth region (optional)\n",
    "    for (x, y) in mouth_points:\n",
    "        cv2.circle(image, (x, y), 2, (0, 255, 0), -1)\n",
    "\n",
    "    # Create a convex hull around the mouth\n",
    "    mouth_hull = cv2.convexHull(mouth_points)\n",
    "\n",
    "    # Define smile transformation by shifting mouth corners up\n",
    "    smile_offset = -5  # Shift up (negative value)\n",
    "    mouth_points[3] = (mouth_points[3][0], mouth_points[3][1] + smile_offset)  # Left corner\n",
    "    mouth_points[9] = (mouth_points[9][0], mouth_points[9][1] + smile_offset)  # Right corner\n",
    "\n",
    "    # Extract region of the mouth\n",
    "    (x, y, w, h) = cv2.boundingRect(mouth_hull)\n",
    "    mouth_region = image[y:y+h, x:x+w].copy()\n",
    "\n",
    "    # Apply affine transformation to create smile effect\n",
    "    original_mouth = np.float32([mouth_points[3], mouth_points[9], mouth_points[6]])  # Corners and bottom middle\n",
    "    smiling_mouth = np.float32([[mouth_points[3][0], mouth_points[3][1]],\n",
    "                                [mouth_points[9][0], mouth_points[9][1]],\n",
    "                                mouth_points[6]])  # Bottom middle stays the same\n",
    "\n",
    "    # Affine transformation matrix\n",
    "    M = cv2.getAffineTransform(original_mouth, smiling_mouth)\n",
    "\n",
    "    # Warp the mouth region\n",
    "    warped_mouth = cv2.warpAffine(mouth_region, M, (w, h))\n",
    "\n",
    "    # Replace the original mouth with the transformed mouth in the image\n",
    "    image[y:y+h, x:x+w] = warped_mouth\n",
    "\n",
    "# Show the result\n",
    "cv2.imshow('Smiling Face', image)\n",
    "cv2.waitKey(0)\n",
    "cv2.destroyAllWindows()"
   ]
  },
  {
   "cell_type": "code",
   "execution_count": null,
   "id": "1f171ff8-9c1a-4cd3-94b2-bb2c264feeef",
   "metadata": {},
   "outputs": [],
   "source": []
  },
  {
   "cell_type": "code",
   "execution_count": null,
   "id": "62b9f010-a16b-4dc0-96aa-565c4b17ea54",
   "metadata": {},
   "outputs": [],
   "source": []
  }
 ],
 "metadata": {
  "kernelspec": {
   "display_name": "Python 3 (ipykernel)",
   "language": "python",
   "name": "python3"
  },
  "language_info": {
   "codemirror_mode": {
    "name": "ipython",
    "version": 3
   },
   "file_extension": ".py",
   "mimetype": "text/x-python",
   "name": "python",
   "nbconvert_exporter": "python",
   "pygments_lexer": "ipython3",
   "version": "3.12.5"
  }
 },
 "nbformat": 4,
 "nbformat_minor": 5
}
